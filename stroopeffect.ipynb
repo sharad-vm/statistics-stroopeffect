{
 "cells": [
  {
   "cell_type": "code",
   "execution_count": 62,
   "metadata": {},
   "outputs": [],
   "source": [
    "## import libraries\n",
    "import pandas as pd\n",
    "import numpy as np\n",
    "import seaborn as sns\n",
    "%matplotlib inline"
   ]
  },
  {
   "cell_type": "markdown",
   "metadata": {},
   "source": [
    "\n",
    "**1. What is our independent variable? What is our dependent variable?**\n",
    "\n",
    "   Our independent variable is the congruent or incongruent word that \n",
    "   is printed and our dependent variable is the amount of time taken by the participants to name the ink colors.\n",
    "\n",
    "**2. What is an appropriate set of hypotheses for this task? What kind of statistical test do you expect to perform? \n",
    "   Justify your choices.**\n",
    "   \n",
    "   As Null hypothesis states that there is no relationship or nothing changes between two measured phenomena, the appropriate null \n",
    "   hypothesis (H<sub>0</sub>) in this task is that there is no difference in time taken to identify the color of the words in either \n",
    "   congruent or incongruent conditions. \n",
    "   \n",
    "   And the appropriate alternative hypothesis (H<sub>A</sub>) is that the incongruent word condition would take longer than the congruent \n",
    "   word condition. \n",
    "   \n",
    "   H<sub>0</sub>: μ<sub>i</sub> = μ<sub>c</sub> (μ<sub>i</sub> - population mean of incongruent values, μ<sub>c</sub> - population mean \n",
    "   of congruent values) \n",
    "   \n",
    "   H<sub>A</sub>: μ<sub>i</sub> > μ<sub>c</sub> (μ<sub>i</sub> - population mean of incongruent values, μ<sub>c</sub> - population mean \n",
    "   of congruent values)\n",
    "   \n",
    "   In other words, if the difference in means of incongruent and congruent word conditions is equal to 0, it means the time taken to say \n",
    "   the color out loud in both the conditions is the same and that the null hypothesis is true else, if the difference is greater than 0 \n",
    "   then it means that the time taken in the incongruent condition is more than the tome taken in the congruent condition and that the \n",
    "   alternativee hypothesis is true.\n",
    "\n",
    "**3. Report some descriptive statistics regarding this dataset. \n",
    "   Include at least one measure of central tendency and at least one measure of variability.**\n",
    "\n",
    "   | Statistics      | Congruent     | Incongruent  | Difference   |\n",
    "   | --------------- |:-------------:| ------------:| ------------:|\n",
    "   | Mean            | 14.05         | 22.01        | 7.96         |\n",
    "   | Median          | 14.35         | 21.01        | 7.66         |\n",
    "   | Pop. Variance   | 12.14         | 22.05        | 22.68        |\n",
    "   | Pop. Std. Dev.  | 3.48          | 4.69         | 4.76         |\n",
    "   | Sample Variance | 12.66         | 23.01        | 11.58        |\n",
    "   | Sample Std. Dev.| 3.55          | 4.79         | 3.4          |\n",
    "      \n"
   ]
  },
  {
   "cell_type": "markdown",
   "metadata": {},
   "source": [
    "**4. Provide one or two visualizations that show the distribution of the sample data. \n",
    "   Write one or two sentences noting what you observe about the plot or plots.**"
   ]
  },
  {
   "cell_type": "code",
   "execution_count": 17,
   "metadata": {},
   "outputs": [
    {
     "data": {
      "text/html": [
       "<div>\n",
       "<style>\n",
       "    .dataframe thead tr:only-child th {\n",
       "        text-align: right;\n",
       "    }\n",
       "\n",
       "    .dataframe thead th {\n",
       "        text-align: left;\n",
       "    }\n",
       "\n",
       "    .dataframe tbody tr th {\n",
       "        vertical-align: top;\n",
       "    }\n",
       "</style>\n",
       "<table border=\"1\" class=\"dataframe\">\n",
       "  <thead>\n",
       "    <tr style=\"text-align: right;\">\n",
       "      <th></th>\n",
       "      <th>Congruent</th>\n",
       "      <th>Incongruent</th>\n",
       "    </tr>\n",
       "  </thead>\n",
       "  <tbody>\n",
       "    <tr>\n",
       "      <th>count</th>\n",
       "      <td>24.000000</td>\n",
       "      <td>24.000000</td>\n",
       "    </tr>\n",
       "    <tr>\n",
       "      <th>mean</th>\n",
       "      <td>14.051125</td>\n",
       "      <td>22.015917</td>\n",
       "    </tr>\n",
       "    <tr>\n",
       "      <th>std</th>\n",
       "      <td>3.559358</td>\n",
       "      <td>4.797057</td>\n",
       "    </tr>\n",
       "    <tr>\n",
       "      <th>min</th>\n",
       "      <td>8.630000</td>\n",
       "      <td>15.687000</td>\n",
       "    </tr>\n",
       "    <tr>\n",
       "      <th>25%</th>\n",
       "      <td>11.895250</td>\n",
       "      <td>18.716750</td>\n",
       "    </tr>\n",
       "    <tr>\n",
       "      <th>50%</th>\n",
       "      <td>14.356500</td>\n",
       "      <td>21.017500</td>\n",
       "    </tr>\n",
       "    <tr>\n",
       "      <th>75%</th>\n",
       "      <td>16.200750</td>\n",
       "      <td>24.051500</td>\n",
       "    </tr>\n",
       "    <tr>\n",
       "      <th>max</th>\n",
       "      <td>22.328000</td>\n",
       "      <td>35.255000</td>\n",
       "    </tr>\n",
       "  </tbody>\n",
       "</table>\n",
       "</div>"
      ],
      "text/plain": [
       "       Congruent  Incongruent\n",
       "count  24.000000    24.000000\n",
       "mean   14.051125    22.015917\n",
       "std     3.559358     4.797057\n",
       "min     8.630000    15.687000\n",
       "25%    11.895250    18.716750\n",
       "50%    14.356500    21.017500\n",
       "75%    16.200750    24.051500\n",
       "max    22.328000    35.255000"
      ]
     },
     "execution_count": 17,
     "metadata": {},
     "output_type": "execute_result"
    }
   ],
   "source": [
    "## import data\n",
    "df = pd.read_csv('stroopdata.csv')"
   ]
  },
  {
   "cell_type": "code",
   "execution_count": 20,
   "metadata": {},
   "outputs": [
    {
     "data": {
      "text/html": [
       "<div>\n",
       "<style>\n",
       "    .dataframe thead tr:only-child th {\n",
       "        text-align: right;\n",
       "    }\n",
       "\n",
       "    .dataframe thead th {\n",
       "        text-align: left;\n",
       "    }\n",
       "\n",
       "    .dataframe tbody tr th {\n",
       "        vertical-align: top;\n",
       "    }\n",
       "</style>\n",
       "<table border=\"1\" class=\"dataframe\">\n",
       "  <thead>\n",
       "    <tr style=\"text-align: right;\">\n",
       "      <th></th>\n",
       "      <th>Congruent</th>\n",
       "      <th>Incongruent</th>\n",
       "      <th>Difference</th>\n",
       "    </tr>\n",
       "  </thead>\n",
       "  <tbody>\n",
       "    <tr>\n",
       "      <th>count</th>\n",
       "      <td>24.000000</td>\n",
       "      <td>24.000000</td>\n",
       "      <td>24.000000</td>\n",
       "    </tr>\n",
       "    <tr>\n",
       "      <th>mean</th>\n",
       "      <td>14.051125</td>\n",
       "      <td>22.015917</td>\n",
       "      <td>7.964792</td>\n",
       "    </tr>\n",
       "    <tr>\n",
       "      <th>std</th>\n",
       "      <td>3.559358</td>\n",
       "      <td>4.797057</td>\n",
       "      <td>4.864827</td>\n",
       "    </tr>\n",
       "    <tr>\n",
       "      <th>min</th>\n",
       "      <td>8.630000</td>\n",
       "      <td>15.687000</td>\n",
       "      <td>1.950000</td>\n",
       "    </tr>\n",
       "    <tr>\n",
       "      <th>25%</th>\n",
       "      <td>11.895250</td>\n",
       "      <td>18.716750</td>\n",
       "      <td>3.645500</td>\n",
       "    </tr>\n",
       "    <tr>\n",
       "      <th>50%</th>\n",
       "      <td>14.356500</td>\n",
       "      <td>21.017500</td>\n",
       "      <td>7.666500</td>\n",
       "    </tr>\n",
       "    <tr>\n",
       "      <th>75%</th>\n",
       "      <td>16.200750</td>\n",
       "      <td>24.051500</td>\n",
       "      <td>10.258500</td>\n",
       "    </tr>\n",
       "    <tr>\n",
       "      <th>max</th>\n",
       "      <td>22.328000</td>\n",
       "      <td>35.255000</td>\n",
       "      <td>21.919000</td>\n",
       "    </tr>\n",
       "  </tbody>\n",
       "</table>\n",
       "</div>"
      ],
      "text/plain": [
       "       Congruent  Incongruent  Difference\n",
       "count  24.000000    24.000000   24.000000\n",
       "mean   14.051125    22.015917    7.964792\n",
       "std     3.559358     4.797057    4.864827\n",
       "min     8.630000    15.687000    1.950000\n",
       "25%    11.895250    18.716750    3.645500\n",
       "50%    14.356500    21.017500    7.666500\n",
       "75%    16.200750    24.051500   10.258500\n",
       "max    22.328000    35.255000   21.919000"
      ]
     },
     "execution_count": 20,
     "metadata": {},
     "output_type": "execute_result"
    }
   ],
   "source": [
    "df['Difference'] = df['Incongruent'] - df['Congruent']\n",
    "\n",
    "df.describe()"
   ]
  },
  {
   "cell_type": "code",
   "execution_count": 69,
   "metadata": {},
   "outputs": [
    {
     "data": {
      "text/plain": [
       "<matplotlib.axes._subplots.AxesSubplot at 0x14e9cebf9e8>"
      ]
     },
     "execution_count": 69,
     "metadata": {},
     "output_type": "execute_result"
    },
    {
     "data": {
      "image/png": "[encoded data removed]",
      "text/plain": [
       "<matplotlib.figure.Figure at 0x14e9cd7db70>"
      ]
     },
     "metadata": {},
     "output_type": "display_data"
    }
   ],
   "source": [
    "df[['Congruent', 'Incongruent']].plot(title = 'Histogram of Congruent & Incongruent words',\n",
    "                       kind = 'hist',\n",
    "                       bins = 24,\n",
    "                       alpha = 0.65)\n"
   ]
  },
  {
   "cell_type": "markdown",
   "metadata": {},
   "source": [
    "By plotting the congruent and incongruent word condition histograms as displayed above, it is clearly evident that the incongruent words have taken longer time to be identified than congruent. "
   ]
  },
  {
   "cell_type": "code",
   "execution_count": 68,
   "metadata": {},
   "outputs": [
    {
     "data": {
      "text/plain": [
       "<matplotlib.axes._subplots.AxesSubplot at 0x14e9cd88198>"
      ]
     },
     "execution_count": 68,
     "metadata": {},
     "output_type": "execute_result"
    },
    {
     "data": {
      "image/png": "[encoded data removed]",
      "text/plain": [
       "<matplotlib.figure.Figure at 0x14e9cd51160>"
      ]
     },
     "metadata": {},
     "output_type": "display_data"
    }
   ],
   "source": [
    "sns.distplot(df[ 'Congruent'])"
   ]
  },
  {
   "cell_type": "code",
   "execution_count": 61,
   "metadata": {},
   "outputs": [
    {
     "data": {
      "text/plain": [
       "<matplotlib.axes._subplots.AxesSubplot at 0x14e9cc9b2e8>"
      ]
     },
     "execution_count": 61,
     "metadata": {},
     "output_type": "execute_result"
    },
    {
     "data": {
      "image/png": "[encoded data removed]",
      "text/plain": [
       "<matplotlib.figure.Figure at 0x14e9cba4c18>"
      ]
     },
     "metadata": {},
     "output_type": "display_data"
    }
   ],
   "source": [
    "sns.distplot(df[ 'Incongruent'])"
   ]
  },
  {
   "cell_type": "markdown",
   "metadata": {},
   "source": [
    "As shown above, both the word conditions are more or less normally distributed with a few outliers in incongruent word condition and the means of the conditions can also be verified in the figures above."
   ]
  },
  {
   "cell_type": "markdown",
   "metadata": {},
   "source": [
    "   \n",
    "**5. Now, perform the statistical test and report your results. What is your confidence level and your critical statistic value? \n",
    "   Do you reject the null hypothesis or fail to reject it? Come to a conclusion in terms of the experiment task. \n",
    "   Did the results match up with your expectations?**\n",
    "   \n",
    "   Based on the alternative hypothesis, the appropriate test that should be conducted is one tailed positive direction test.\n",
    "   \n",
    "   Words in the lists (or sample size), n = 24\n",
    "   \n",
    "   Degrees of freedom,                 df = 23\n",
    "   \n",
    "   t-critical for $\\alpha$ = .05, t-critical = 1.714\n",
    "   \n",
    "   Std error of the mean, SEM = 4.86/$\\sqrt{24}$ = 0.992\n",
    "   \n",
    "   Mean difference = 22.01 - 14.05 = 7.96\n",
    "   \n",
    "   t-statistic = Mean difference/SEM = 7.96/0.992 = 8.02\n",
    "   \n",
    "   The p-value in this case is greater than 0.05 and the results are statistically significant.\n",
    "   \n",
    "   Because the t-statistic is greater than the t-critical, it is safe to reject the null hypothesis. This means that it  does take longer to say the color out loud in the condition of incongruent words than congruent words and matches my expectations which is also the alternative hypothesis.\n",
    "   \n",
    "**6. Optional: What do you think is responsible for the effects observed? Can you think of an alternative or similar task that would \n",
    "   result in a similar effect? Some research about the problem will be helpful for thinking about these two questions!**\n",
    "   \n",
    "   I think the brain takes longer to connect the incongruent word with the color the word is in while in the case of congruent words, recognizing the color of the word or reading the word is good enough as they both would be the same. \n",
    "   \n",
    "   An alternative to this task would be to use reversed words instead of regular words.\n",
    "   \n",
    "   Example - Congruent words - RED GREEN BLUE\n",
    "             Incongruent words - DER NEERG EULB\n",
    "             \n",
    "**References**\n",
    "\n",
    "+ [Udacity's Statistics Course](https://classroom.udacity.com/nanodegrees/nd002/parts/0021345402/modules/458220420175460/lessons/4621269407/concepts/2302290830923)\n",
    "\n",
    "+ [Wikipedia - Stroop Effect](https://en.wikipedia.org/wiki/Stroop_effect)\n"
   ]
  }
 ],
 "metadata": {
  "kernelspec": {
   "display_name": "Python 3",
   "language": "python",
   "name": "python3"
  },
  "language_info": {
   "codemirror_mode": {
    "name": "ipython",
    "version": 3
   },
   "file_extension": ".py",
   "mimetype": "text/x-python",
   "name": "python",
   "nbconvert_exporter": "python",
   "pygments_lexer": "ipython3",
   "version": "3.6.1"
  }
 },
 "nbformat": 4,
 "nbformat_minor": 2
}
